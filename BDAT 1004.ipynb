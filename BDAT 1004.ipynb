{
 "cells": [
  {
   "cell_type": "markdown",
   "id": "3e96482c",
   "metadata": {},
   "source": [
    "# BDAT 1004 Problem Set 1"
   ]
  },
  {
   "cell_type": "markdown",
   "id": "eba41cef",
   "metadata": {},
   "source": [
    "**QUESTION 1**"
   ]
  },
  {
   "cell_type": "code",
   "execution_count": 16,
   "id": "3f1f4f98",
   "metadata": {},
   "outputs": [
    {
     "name": "stdout",
     "output_type": "stream",
     "text": [
      "<class 'int'>\n",
      "<class 'float'>\n",
      "<class 'bool'>\n",
      "<class 'str'>\n",
      "<class 'int'>\n",
      "<class 'str'>\n",
      "<class 'str'>\n",
      "<class 'float'>\n",
      "<class 'int'>\n",
      "<class 'set'>\n",
      "<class 'bool'>\n",
      "<class 'float'>\n"
     ]
    }
   ],
   "source": [
    "a = 5 \n",
    "print(type(a))\n",
    "b = 5.0\n",
    "print(type(b))\n",
    "c = 5>1\n",
    "print(type(c))\n",
    "d = '5'\n",
    "print(type(d))\n",
    "print(type(5*2))\n",
    "print(type('5'*2))\n",
    "print(type('5'+'2'))\n",
    "print(type(5/2))\n",
    "print(type(5%2))\n",
    "e = {5,2,1}\n",
    "print(type(e))\n",
    "f = 5==3\n",
    "print(type(f))\n",
    "import math\n",
    "g = math.pi\n",
    "print(type(g))"
   ]
  },
  {
   "cell_type": "markdown",
   "id": "44b67f2b",
   "metadata": {},
   "source": [
    "**QUESTION 2**"
   ]
  },
  {
   "cell_type": "markdown",
   "id": "4c3416cb",
   "metadata": {},
   "source": [
    "**(A)**"
   ]
  },
  {
   "cell_type": "code",
   "execution_count": 14,
   "id": "7e2baef7",
   "metadata": {},
   "outputs": [
    {
     "name": "stdout",
     "output_type": "stream",
     "text": [
      "34\n"
     ]
    }
   ],
   "source": [
    "R = \"Supercalifragilisticexpialidocious\"\n",
    "print(len(R))"
   ]
  },
  {
   "cell_type": "markdown",
   "id": "d2a94d9e",
   "metadata": {},
   "source": [
    "**(B)**"
   ]
  },
  {
   "cell_type": "code",
   "execution_count": 15,
   "id": "db4310bf",
   "metadata": {},
   "outputs": [
    {
     "name": "stdout",
     "output_type": "stream",
     "text": [
      "True\n"
     ]
    }
   ],
   "source": [
    "P = \"Supercalifragilisticexpialidocious\"\n",
    "print('ice' in P)"
   ]
  },
  {
   "cell_type": "markdown",
   "id": "e239f691",
   "metadata": {},
   "source": [
    "**(C)**\n"
   ]
  },
  {
   "cell_type": "code",
   "execution_count": 28,
   "id": "8bfcf94f",
   "metadata": {},
   "outputs": [
    {
     "name": "stdout",
     "output_type": "stream",
     "text": [
      "Supercalifragilisticexpialidocious\n",
      "Bababadalgharaghtakamminarronnkonn\n"
     ]
    }
   ],
   "source": [
    "a =\"Supercalifragilisticexpialidocious\"\n",
    "b =\"Honorificabilitudinitatibus\"\n",
    "c =\"Bababadalgharaghtakamminarronnkonn\"\n",
    "len_a = len(a)\n",
    "len_b = len(b)\n",
    "len_c = len(c)\n",
    "if len_a>=len_b or len_a>=len_c:\n",
    "    print(a)\n",
    "if len_b>=len_c or len_b>=len_a:\n",
    "    print(b)\n",
    "if len_c>=len_a or len_c>=len_b:\n",
    "    print(c)\n"
   ]
  },
  {
   "cell_type": "markdown",
   "id": "09db9c7b",
   "metadata": {},
   "source": [
    "**(D)**"
   ]
  },
  {
   "cell_type": "code",
   "execution_count": 1,
   "id": "a09b3ca7",
   "metadata": {},
   "outputs": [
    {
     "name": "stdout",
     "output_type": "stream",
     "text": [
      "['Bartok', 'Bellini', 'Berlioz', 'Bernstein', 'Borodin', 'Brian', 'Buxtehude']\n"
     ]
    }
   ],
   "source": [
    "composers = ['Berlioz', 'Borodin', 'Brian','Bartok', 'Bellini', 'Buxtehude', 'Bernstein']\n",
    "composers.sort()\n",
    "print(composers)"
   ]
  },
  {
   "cell_type": "markdown",
   "id": "f67760a7",
   "metadata": {},
   "source": [
    "**QUESTION 3**"
   ]
  },
  {
   "cell_type": "code",
   "execution_count": 10,
   "id": "453ae30c",
   "metadata": {},
   "outputs": [
    {
     "name": "stdout",
     "output_type": "stream",
     "text": [
      "Enter first side:2\n",
      "Enter second side:2\n",
      "Enter third side:2\n",
      "3.0\n",
      "1.7320508075688772\n"
     ]
    }
   ],
   "source": [
    "import math\n",
    "def triangleArea():\n",
    "    a = int(input(\"Enter first side:\"))\n",
    "    b = int(input(\"Enter second side:\"))\n",
    "    c = int(input(\"Enter third side:\"))\n",
    "    s = (a+b+c)/2\n",
    "    print(s)\n",
    "    area = math.sqrt(s*(s-a)*(s-b)*(s-c))\n",
    "    print(area)\n",
    "triangleArea()    "
   ]
  },
  {
   "cell_type": "markdown",
   "id": "7025b8ae",
   "metadata": {},
   "source": [
    "**QUESTION 4**"
   ]
  },
  {
   "cell_type": "code",
   "execution_count": 4,
   "id": "bbca6064",
   "metadata": {},
   "outputs": [
    {
     "name": "stdout",
     "output_type": "stream",
     "text": [
      "The Even Elements are: [42, 56, 32]\n",
      "The Odd Elements are: [25, 47]\n"
     ]
    }
   ],
   "source": [
    "elements = [25,47,42,56,32]\n",
    "even = []\n",
    "odd = []\n",
    "for element in elements:\n",
    "    if element%2 == 0:\n",
    "        even.append(element)\n",
    "    else:\n",
    "        odd.append(element)\n",
    "print(\"The Even Elements are:\", even)\n",
    "print(\"The Odd Elements are:\", odd)\n",
    "\n",
    "        \n",
    "    "
   ]
  },
  {
   "cell_type": "markdown",
   "id": "a15f9fd0",
   "metadata": {},
   "source": [
    "**QUESTION 5**"
   ]
  },
  {
   "cell_type": "markdown",
   "id": "7f169ba3",
   "metadata": {},
   "source": [
    "**(A)**"
   ]
  },
  {
   "cell_type": "code",
   "execution_count": 2,
   "id": "88c8d10e",
   "metadata": {},
   "outputs": [
    {
     "name": "stdout",
     "output_type": "stream",
     "text": [
      "True\n",
      "False\n"
     ]
    }
   ],
   "source": [
    "import math\n",
    "def inside(x,y,x1,y1,x2,y2):\n",
    "    if x1<=x<=x2 and y1<=y<y2:\n",
    "        print(\"True\")\n",
    "    else:\n",
    "        print(\"False\")\n",
    "inside(1,1,0,0,2,3)\n",
    "inside(-1,-1,0,0,2,3)\n",
    "        \n",
    "        "
   ]
  },
  {
   "cell_type": "markdown",
   "id": "15f54333",
   "metadata": {},
   "source": [
    "**(B)**"
   ]
  },
  {
   "cell_type": "code",
   "execution_count": 12,
   "id": "441990cd",
   "metadata": {},
   "outputs": [
    {
     "name": "stdout",
     "output_type": "stream",
     "text": [
      "False\n",
      "True\n"
     ]
    }
   ],
   "source": [
    "import math\n",
    "def inside(x,y,x1,y1,x2,y2):\n",
    "    if x1<=x<=x2 and y1<=y<=y2:\n",
    "        print(\"True\")\n",
    "    else:\n",
    "        print(\"False\")\n",
    "inside(1,1,0.3,0.5,1.1,0.7) \n",
    "inside(1,1,0.5,0.2,1.1,2)"
   ]
  },
  {
   "cell_type": "markdown",
   "id": "b2375d40",
   "metadata": {},
   "source": [
    "**QUESTION 6**"
   ]
  },
  {
   "cell_type": "code",
   "execution_count": 2,
   "id": "69453440",
   "metadata": {},
   "outputs": [
    {
     "name": "stdout",
     "output_type": "stream",
     "text": [
      "Enter your word here:krishna\n",
      "rishnakay\n"
     ]
    }
   ],
   "source": [
    "def pig(word):\n",
    "    alphabets = 'AEIOUaeiou'\n",
    "    word = word.lower()\n",
    "    if word[0] in alphabets:\n",
    "        print(word[0:]+\"way\")\n",
    "    else:\n",
    "        print(word[1:]+word[0]+\"ay\")\n",
    "words = input(\"Enter your word here:\")\n",
    "pig(words)"
   ]
  },
  {
   "cell_type": "markdown",
   "id": "3765d498",
   "metadata": {},
   "source": [
    "**QUESTION 7**"
   ]
  },
  {
   "cell_type": "code",
   "execution_count": 34,
   "id": "76d30a4f",
   "metadata": {},
   "outputs": [
    {
     "name": "stdout",
     "output_type": "stream",
     "text": [
      "The are patients of Blood type A 10\n",
      "The are patients of Blood type B One\n",
      "The are patients of Blood type AB 10\n",
      "The are patients of Blood type O 12\n",
      "The are patients of Blood type OO No\n"
     ]
    }
   ],
   "source": [
    "def bldcount(bloodtext):\n",
    "    t = open(bloodtext,\"r\")\n",
    "    g = t.read()\n",
    "    blood_A = int(g.count(' A '))\n",
    "    blood_B = int(g.count(' B '))\n",
    "    blood_AB = int(g.count(' AB '))\n",
    "    blood_O = int(g.count(' O '))\n",
    "    blood_OO = int(g.count(' OO '))\n",
    "    if(blood_B==1):\n",
    "        blood_B =\"One\"\n",
    "    if(blood_OO==0):\n",
    "        blood_OO=\"No\"\n",
    "    print(\"The are patients of Blood type A\", blood_A)\n",
    "    print(\"The are patients of Blood type B\", blood_B)\n",
    "    print(\"The are patients of Blood type AB\", blood_AB)\n",
    "    print(\"The are patients of Blood type O\", blood_O)\n",
    "    print(\"The are patients of Blood type OO\", blood_OO)\n",
    "bldcount('bloodtype1.txt')\n"
   ]
  },
  {
   "cell_type": "markdown",
   "id": "382ae1ff",
   "metadata": {},
   "source": [
    "**QUESTION 8**"
   ]
  },
  {
   "cell_type": "code",
   "execution_count": 18,
   "id": "2394050c",
   "metadata": {},
   "outputs": [
    {
     "name": "stdout",
     "output_type": "stream",
     "text": [
      "1.241401\n",
      "3.13789\n"
     ]
    }
   ],
   "source": [
    "def curconv(currencies,amount):\n",
    "    file = open('Currency.txt', 'r')\n",
    "    file_read = file.readlines()\n",
    "    for line in file_read:\n",
    "        A = line.split('\\t')\n",
    "        if(currencies == A[0]):\n",
    "            currencies=float(A[1])*amount\n",
    "            return currencies\n",
    "        \n",
    "print(curconv('JPY',100)) \n",
    "print(curconv('THB',100))"
   ]
  },
  {
   "cell_type": "markdown",
   "id": "fd371c04",
   "metadata": {},
   "source": [
    "**QUESTION 9**"
   ]
  },
  {
   "cell_type": "code",
   "execution_count": 12,
   "id": "1b501833",
   "metadata": {},
   "outputs": [
    {
     "ename": "TypeError",
     "evalue": "unsupported operand type(s) for +: 'int' and 'str'",
     "output_type": "error",
     "traceback": [
      "\u001b[1;31m---------------------------------------------------------------------------\u001b[0m",
      "\u001b[1;31mTypeError\u001b[0m                                 Traceback (most recent call last)",
      "\u001b[1;32m~\\AppData\\Local\\Temp\\ipykernel_2700\\3627028457.py\u001b[0m in \u001b[0;36m<module>\u001b[1;34m\u001b[0m\n\u001b[1;32m----> 1\u001b[1;33m \u001b[0mprint\u001b[0m\u001b[1;33m(\u001b[0m\u001b[1;36m6\u001b[0m \u001b[1;33m+\u001b[0m \u001b[1;34m'a'\u001b[0m\u001b[1;33m)\u001b[0m\u001b[1;33m\u001b[0m\u001b[1;33m\u001b[0m\u001b[0m\n\u001b[0m",
      "\u001b[1;31mTypeError\u001b[0m: unsupported operand type(s) for +: 'int' and 'str'"
     ]
    }
   ],
   "source": [
    "print(6 + 'a')"
   ]
  },
  {
   "cell_type": "markdown",
   "id": "cf7d9f21",
   "metadata": {},
   "source": [
    "==>> we can't concatenate two different datatypes because the first is integer and second one is string."
   ]
  },
  {
   "cell_type": "code",
   "execution_count": 42,
   "id": "3a0d4432",
   "metadata": {},
   "outputs": [
    {
     "ename": "IndexError",
     "evalue": "list index out of range",
     "output_type": "error",
     "traceback": [
      "\u001b[1;31m---------------------------------------------------------------------------\u001b[0m",
      "\u001b[1;31mIndexError\u001b[0m                                Traceback (most recent call last)",
      "\u001b[1;32m~\\AppData\\Local\\Temp\\ipykernel_11528\\3908720338.py\u001b[0m in \u001b[0;36m<module>\u001b[1;34m\u001b[0m\n\u001b[0;32m      1\u001b[0m \u001b[0mMarks\u001b[0m \u001b[1;33m=\u001b[0m \u001b[1;33m[\u001b[0m\u001b[1;36m99\u001b[0m\u001b[1;33m,\u001b[0m\u001b[1;36m40\u001b[0m\u001b[1;33m,\u001b[0m\u001b[1;36m50\u001b[0m\u001b[1;33m,\u001b[0m\u001b[1;36m70\u001b[0m\u001b[1;33m,\u001b[0m\u001b[1;36m30\u001b[0m\u001b[1;33m,\u001b[0m\u001b[1;36m80\u001b[0m\u001b[1;33m,\u001b[0m\u001b[1;36m100\u001b[0m\u001b[1;33m,\u001b[0m\u001b[1;36m56\u001b[0m\u001b[1;33m,\u001b[0m\u001b[1;36m60\u001b[0m\u001b[1;33m]\u001b[0m\u001b[1;33m\u001b[0m\u001b[1;33m\u001b[0m\u001b[0m\n\u001b[1;32m----> 2\u001b[1;33m \u001b[0mprint\u001b[0m\u001b[1;33m(\u001b[0m\u001b[0mMarks\u001b[0m\u001b[1;33m[\u001b[0m\u001b[1;36m12\u001b[0m\u001b[1;33m]\u001b[0m\u001b[1;33m)\u001b[0m\u001b[1;33m\u001b[0m\u001b[1;33m\u001b[0m\u001b[0m\n\u001b[0m",
      "\u001b[1;31mIndexError\u001b[0m: list index out of range"
     ]
    }
   ],
   "source": [
    "Marks = [99,40,50,70,30,80,100,56,60]\n",
    "print(Marks[12])\n"
   ]
  },
  {
   "cell_type": "markdown",
   "id": "2d6f9a9d",
   "metadata": {},
   "source": [
    "==>> The range of the list is 10 and reffering 12th index will throw an error, which is list index out of range."
   ]
  },
  {
   "cell_type": "code",
   "execution_count": 43,
   "id": "d0efdedc",
   "metadata": {},
   "outputs": [
    {
     "ename": "NameError",
     "evalue": "name 'x' is not defined",
     "output_type": "error",
     "traceback": [
      "\u001b[1;31m---------------------------------------------------------------------------\u001b[0m",
      "\u001b[1;31mNameError\u001b[0m                                 Traceback (most recent call last)",
      "\u001b[1;32m~\\AppData\\Local\\Temp\\ipykernel_11528\\1353120783.py\u001b[0m in \u001b[0;36m<module>\u001b[1;34m\u001b[0m\n\u001b[1;32m----> 1\u001b[1;33m \u001b[0mprint\u001b[0m\u001b[1;33m(\u001b[0m\u001b[0mx\u001b[0m\u001b[1;33m)\u001b[0m\u001b[1;33m\u001b[0m\u001b[1;33m\u001b[0m\u001b[0m\n\u001b[0m",
      "\u001b[1;31mNameError\u001b[0m: name 'x' is not defined"
     ]
    }
   ],
   "source": [
    "print(x)"
   ]
  },
  {
   "cell_type": "markdown",
   "id": "02dd5267",
   "metadata": {},
   "source": [
    "==>> There is no value assign to the variable x."
   ]
  },
  {
   "cell_type": "code",
   "execution_count": 44,
   "id": "55e5087c",
   "metadata": {},
   "outputs": [
    {
     "ename": "NameError",
     "evalue": "name 'article' is not defined",
     "output_type": "error",
     "traceback": [
      "\u001b[1;31m---------------------------------------------------------------------------\u001b[0m",
      "\u001b[1;31mNameError\u001b[0m                                 Traceback (most recent call last)",
      "\u001b[1;32m~\\AppData\\Local\\Temp\\ipykernel_11528\\474736368.py\u001b[0m in \u001b[0;36m<module>\u001b[1;34m\u001b[0m\n\u001b[1;32m----> 1\u001b[1;33m \u001b[0mprint\u001b[0m\u001b[1;33m(\u001b[0m\u001b[0marticle\u001b[0m\u001b[1;33m.\u001b[0m\u001b[0mtxt\u001b[0m\u001b[1;33m)\u001b[0m\u001b[1;33m\u001b[0m\u001b[1;33m\u001b[0m\u001b[0m\n\u001b[0m",
      "\u001b[1;31mNameError\u001b[0m: name 'article' is not defined"
     ]
    }
   ],
   "source": [
    "print(article.txt)"
   ]
  },
  {
   "cell_type": "markdown",
   "id": "fa0fafe3",
   "metadata": {},
   "source": [
    "==>> The file does not exist."
   ]
  },
  {
   "cell_type": "markdown",
   "id": "bfe6fdc3",
   "metadata": {},
   "source": [
    "**QUESTION 10**"
   ]
  },
  {
   "cell_type": "code",
   "execution_count": 33,
   "id": "f48de804",
   "metadata": {},
   "outputs": [
    {
     "name": "stdout",
     "output_type": "stream",
     "text": [
      "[1, 0, 0, 0, 1, 0, 0, 0, 0, 0, 0, 1, 0, 0, 0, 2, 0, 0, 0, 0, 0, 0, 0, 0, 0, 0]\n",
      "[1, 1, 1, 3, 5, 1, 1, 2, 1, 0, 1, 0, 1, 2, 4, 0, 1, 2, 0, 3, 1, 0, 1, 1, 0, 0]\n"
     ]
    }
   ],
   "source": [
    "def frequencies(word):\n",
    "    letters = \"abcdefghijklmnopqrstuvwxyz\"\n",
    "    list_1 =[0] * 26\n",
    "    for char in word.lower():\n",
    "        if char in letters:\n",
    "            index = letters.index(char)\n",
    "            list_1[index] += 1\n",
    "    return list_1\n",
    "print(frequencies('apple'))\n",
    "print(frequencies('The quick red fox got bored and went home'))\n",
    "\n",
    "            "
   ]
  }
 ],
 "metadata": {
  "kernelspec": {
   "display_name": "Python 3 (ipykernel)",
   "language": "python",
   "name": "python3"
  },
  "language_info": {
   "codemirror_mode": {
    "name": "ipython",
    "version": 3
   },
   "file_extension": ".py",
   "mimetype": "text/x-python",
   "name": "python",
   "nbconvert_exporter": "python",
   "pygments_lexer": "ipython3",
   "version": "3.9.13"
  }
 },
 "nbformat": 4,
 "nbformat_minor": 5
}
